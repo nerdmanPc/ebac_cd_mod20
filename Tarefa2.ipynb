{
 "cells": [
  {
   "cell_type": "markdown",
   "metadata": {},
   "source": [
    "### Fórmula de Bhaskara\n",
    "\n",
    "A solução para uma função de segundo grau depende das suas raizes (valores de x). Como já vimos, os coeficientes precisam ser números reais e o angular diferente de zero. Sendo assim, temos a seguinte fórmula de Bhaskara: \n",
    "\n",
    "$$ X = \\frac{-b \\pm \\sqrt{b^2-4.a.c}}{2.a} $$\n",
    "<center><i>Fórmula de Bhaskara.</i></center>\n",
    "\n",
    "Para melhor compreensão, o seu cálculo é dividido em duas partes: discriminante da equação e operações para determinar as raízes.\n",
    "\n",
    "##### Discriminante\n",
    "\n",
    "A figura dentro da raiz na fórmula de Bhaskara é nomeada discriminante. Seu símbolo é a letra grega delta e apresenta a determinada fórmula:\n",
    "\n",
    "$$ \\Delta = b^2 - 4.a.c $$\n",
    "<center><i>Fórmula do discriminante.</i></center>\n",
    "\n",
    "- Se o delta for maior que zero, a equação terá dois valores reais distintos.\n",
    "- Se o delta for igual a zero, a equação terá somente um valor real ou dois resultados iguais.\n",
    "- Se o delta for menor que zero, a equação não possuirá valores reais."
   ]
  }
 ],
 "metadata": {
  "kernelspec": {
   "display_name": "Python 3.10.6 64-bit",
   "language": "python",
   "name": "python3"
  },
  "language_info": {
   "name": "python",
   "version": "3.10.6"
  },
  "orig_nbformat": 4,
  "vscode": {
   "interpreter": {
    "hash": "916dbcbb3f70747c44a77c7bcd40155683ae19c65e1c03b4aa3499c5328201f1"
   }
  }
 },
 "nbformat": 4,
 "nbformat_minor": 2
}
